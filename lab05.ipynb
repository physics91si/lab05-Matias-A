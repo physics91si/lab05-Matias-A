{
 "cells": [
  {
   "cell_type": "code",
   "execution_count": 41,
   "metadata": {},
   "outputs": [],
   "source": [
    "# from __future__ import print_function, division"
   ]
  },
  {
   "cell_type": "code",
   "execution_count": 42,
   "metadata": {},
   "outputs": [],
   "source": [
    "import numpy as np\n",
    "import matplotlib.pyplot as plt"
   ]
  },
  {
   "cell_type": "markdown",
   "metadata": {},
   "source": [
    "# Part 1"
   ]
  },
  {
   "cell_type": "code",
   "execution_count": 43,
   "metadata": {},
   "outputs": [],
   "source": [
    "def integrate(y, dx):\n",
    "    \"\"\"\n",
    "    Takes an array of y-values and a step size dx of the corresponding x values \n",
    "    and numerically integrates the function, returning the final value\n",
    "    \"\"\"\n",
    "    counter = 0\n",
    "    for yi in y:\n",
    "        counter += dx * yi\n",
    "    return counter"
   ]
  },
  {
   "cell_type": "code",
   "execution_count": 44,
   "metadata": {},
   "outputs": [],
   "source": [
    "def plot_fn(xarr, yarr, title=''):\n",
    "    \"\"\"\n",
    "    Basic plotting function\n",
    "    \"\"\"\n",
    "    plt.plot(xarr, yarr)\n",
    "    plt.title(title)\n",
    "    plt.xlabel('x')\n",
    "    plt.ylabel('y')\n",
    "    plt.show()"
   ]
  },
  {
   "cell_type": "code",
   "execution_count": 45,
   "metadata": {},
   "outputs": [],
   "source": [
    "# TODO write code here to setup arrays x and y = sin(x) and then plot them by calling plot_fn\n",
    "x = np.arange(0.0,2*np.pi,0.01)\n",
    "y=np.sin(x)"
   ]
  },
  {
   "cell_type": "code",
   "execution_count": 46,
   "metadata": {},
   "outputs": [
    {
     "data": {
      "text/plain": [
       "-1.0853464615831545e-05"
      ]
     },
     "execution_count": 46,
     "metadata": {},
     "output_type": "execute_result"
    }
   ],
   "source": [
    "integrate(y,0.01)"
   ]
  },
  {
   "cell_type": "code",
   "execution_count": 47,
   "metadata": {},
   "outputs": [
    {
     "data": {
      "text/plain": [
       "5.073044348824496e-06"
      ]
     },
     "execution_count": 47,
     "metadata": {},
     "output_type": "execute_result"
    }
   ],
   "source": [
    "np.trapz(y, dx=0.01)"
   ]
  },
  {
   "cell_type": "code",
   "execution_count": 48,
   "metadata": {},
   "outputs": [
    {
     "name": "stdout",
     "output_type": "stream",
     "text": [
      "[[ 4.7  10.99 17.27]]\n",
      "[[ 1.56  7.84 14.13]]\n"
     ]
    }
   ],
   "source": [
    "# TODO find local maxima and minima of sinx from 0 to 6*pi\n",
    "y2 = np.sin(np.arange(0.0,6*np.pi,0.01))\n",
    "dy2 = np.diff(y2) ## changes in y\n",
    "dy_sign=np.sign(dy2) ## signs of changes -> outputs an array of -1 , 0 and 1\n",
    "maxmin = np.diff(dy_sign) ##finds the points where the sign of change changes (outputs 0 if subsequent values have the same sign)\n",
    "## in maxmin value is positive if the derivative changes from negative to positive = if it's a min, and vice versa\n",
    "mins = np.asarray(np.nonzero(maxmin > 0)) #indices of mins\n",
    "mins = mins/100 #values of mins\n",
    "maxs = np.asarray(np.nonzero(maxmin < 0)) #indices of maxs\n",
    "maxs = maxs/100 #values of maxs\n",
    "\n",
    "print(mins)\n",
    "print(maxs)"
   ]
  },
  {
   "cell_type": "markdown",
   "metadata": {},
   "source": [
    "# Part 2"
   ]
  },
  {
   "cell_type": "code",
   "execution_count": 49,
   "metadata": {},
   "outputs": [],
   "source": [
    "def wavepacket(x, k, sigma):\n",
    "    \"\"\"\n",
    "    This function creates a wavepacket on the interval defined by x with\n",
    "    wavevector k and standard deviation sigma.\n",
    "    \"\"\"\n",
    "    return np.sin(k*x) *  np.exp(-(x**2)/(2*sigma**2))"
   ]
  },
  {
   "cell_type": "code",
   "execution_count": 50,
   "metadata": {},
   "outputs": [],
   "source": [
    "def noisy_packet(x_values, k, sigma, noise_amplitude):\n",
    "    \"\"\"\n",
    "    This function returns a noisy Gaussian wavepacket with wave\n",
    "    vector k, standard deviation sigma and Gaussian noise of standard\n",
    "    deviation noise_amplitude.\n",
    "    \"\"\"\n",
    "    clean_y = wavepacket(x_values,k,sigma)\n",
    "    noisy_y = clean_y + noise_amplitude*np.random.randn(len(x_values))\n",
    "    return noisy_y"
   ]
  },
  {
   "cell_type": "code",
   "execution_count": 59,
   "metadata": {},
   "outputs": [],
   "source": [
    "def clean_data(x_values,y_values):\n",
    "    \"\"\"\n",
    "    This function should take a set of y_values, perform the Fourier\n",
    "    transform on it, filter out the high frequency noise, transform the\n",
    "    signal back into real space, and return it.\n",
    "    \"\"\"\n",
    "\n",
    "    # TODO edit this function\n",
    "    y_fft = np.fft.rfft(y_values)\n",
    "    low_pass_filter = np.ones(y_fft.shape)\n",
    "    num_freq = y_fft.size\n",
    "    low_pass_filter[int(num_freq/25):num_freq] = 0\n",
    "    y_fft = y_fft*low_pass_filter\n",
    "    y_clean_values = np.fft.irfft(y_fft, len(y_values))\n",
    "    return y_clean_values"
   ]
  },
  {
   "cell_type": "code",
   "execution_count": 63,
   "metadata": {},
   "outputs": [
    {
     "data": {
      "image/png": "[encoded data removed]",
      "text/plain": [
       "<Figure size 432x288 with 1 Axes>"
      ]
     },
     "metadata": {},
     "output_type": "display_data"
    }
   ],
   "source": [
    "# TODO call noisy_packet() to get a Gaussian wave packet, \n",
    "# call clean_data() to apply a low pass filter to the data, and\n",
    "# finally plot the result using plot_fn\n",
    "packet = noisy_packet(x, 2, 2, 0.2)\n",
    "plot_fn(x,clean_data(x,packet))"
   ]
  },
  {
   "cell_type": "markdown",
   "metadata": {},
   "source": [
    "# Part 3"
   ]
  },
  {
   "cell_type": "code",
   "execution_count": 15,
   "metadata": {},
   "outputs": [],
   "source": [
    "# TODO mask the arrays, then plot"
   ]
  },
  {
   "cell_type": "code",
   "execution_count": 16,
   "metadata": {},
   "outputs": [],
   "source": [
    "# TODO try to generate masked noisy data and then clean it"
   ]
  }
 ],
 "metadata": {
  "kernelspec": {
   "display_name": "Python 3",
   "language": "python",
   "name": "python3"
  },
  "language_info": {
   "codemirror_mode": {
    "name": "ipython",
    "version": 3
   },
   "file_extension": ".py",
   "mimetype": "text/x-python",
   "name": "python",
   "nbconvert_exporter": "python",
   "pygments_lexer": "ipython3",
   "version": "3.6.5"
  }
 },
 "nbformat": 4,
 "nbformat_minor": 2
}
